{
 "cells": [
  {
   "cell_type": "code",
   "execution_count": 53,
   "metadata": {},
   "outputs": [],
   "source": [
    "import numpy as np\n",
    "import pandas as pd\n",
    "import matplotlib.pyplot as plt\n",
    "import sklearn\n",
    "import seaborn as sns\n"
   ]
  },
  {
   "cell_type": "code",
   "execution_count": 41,
   "metadata": {},
   "outputs": [],
   "source": [
    "# importing dataset\n",
    "dataset = pd.read_csv('creditcard.csv')"
   ]
  },
  {
   "cell_type": "code",
   "execution_count": 42,
   "metadata": {},
   "outputs": [],
   "source": [
    "# using only 10% of dataset as dataset is very big\n",
    "dataset = dataset.sample(frac = 0.10, random_state = 0)\n",
    "\n",
    "#making matrix of features\n",
    "columns = dataset.columns.tolist()\n",
    "columns = [c for c in columns if c not in [\"Class\"]]\n",
    "target = \"Class\"\n",
    "x = dataset[columns]\n",
    "y = dataset[target]"
   ]
  },
  {
   "cell_type": "code",
   "execution_count": 55,
   "metadata": {},
   "outputs": [
    {
     "data": {
      "image/png": "[encoded data removed]",
      "text/plain": [
       "<Figure size 864x648 with 2 Axes>"
      ]
     },
     "metadata": {
      "needs_background": "light"
     },
     "output_type": "display_data"
    }
   ],
   "source": [
    "#correlation matrix\n",
    "corrmat = dataset.corr()\n",
    "fig = plt.figure(figsize = (12,9))\n",
    "sns.heatmap(corrmat, vmax=0.8,square = True)\n",
    "plt.show()\n"
   ]
  },
  {
   "cell_type": "code",
   "execution_count": 43,
   "metadata": {},
   "outputs": [],
   "source": [
    "# fraud transactions and valid transactions\n",
    "#in dataset fraud transactions are shown whose class is 1 and valid transaction have value 0\n",
    "\n",
    "fraud = dataset[dataset[\"Class\"]== 1]\n",
    "valid = dataset[dataset[\"Class\"]== 0]"
   ]
  },
  {
   "cell_type": "code",
   "execution_count": 44,
   "metadata": {},
   "outputs": [],
   "source": [
    "#we need to compute outlier fraction value which will be used as contamination value while creating\n",
    "#object of IsolationForest class which is used for anomaly detection in the dataset\n",
    "\n",
    "outlier_fraction = len(fraud)/float(len(valid))\n"
   ]
  },
  {
   "cell_type": "code",
   "execution_count": 45,
   "metadata": {},
   "outputs": [],
   "source": [
    "\n",
    "from sklearn.metrics import classification_report, accuracy_score\n",
    "from sklearn.ensemble import IsolationForest\n",
    "from sklearn.neighbors import LocalOutlierFactor"
   ]
  },
  {
   "cell_type": "code",
   "execution_count": 46,
   "metadata": {},
   "outputs": [],
   "source": [
    "state = 1\n",
    "\n",
    "#define outlier detection method\n",
    "classifier = {\n",
    "    \"Isolation Forest\":IsolationForest(behaviour='new',\n",
    "                                       max_samples = len(x),\n",
    "                                       contamination = outlier_fraction,\n",
    "                                       random_state = state),\n",
    "    \"Local Outlier Factor\":LocalOutlierFactor(n_neighbors = 20,\n",
    "                                              contamination = outlier_fraction)\n",
    "}"
   ]
  },
  {
   "cell_type": "code",
   "execution_count": 51,
   "metadata": {},
   "outputs": [
    {
     "name": "stdout",
     "output_type": "stream",
     "text": [
      "Isolation Forest : 73\n",
      "0.9974368877497279\n",
      "              precision    recall  f1-score   support\n",
      "\n",
      "           0       1.00      1.00      1.00     28426\n",
      "           1       0.34      0.35      0.34        55\n",
      "\n",
      "   micro avg       1.00      1.00      1.00     28481\n",
      "   macro avg       0.67      0.67      0.67     28481\n",
      "weighted avg       1.00      1.00      1.00     28481\n",
      "\n",
      "Local Outlier Factor : 109\n",
      "0.9961728871879498\n",
      "              precision    recall  f1-score   support\n",
      "\n",
      "           0       1.00      1.00      1.00     28426\n",
      "           1       0.02      0.02      0.02        55\n",
      "\n",
      "   micro avg       1.00      1.00      1.00     28481\n",
      "   macro avg       0.51      0.51      0.51     28481\n",
      "weighted avg       1.00      1.00      1.00     28481\n",
      "\n"
     ]
    }
   ],
   "source": [
    "# fitting to training set and getting predictions\n",
    "\n",
    "n_outlier = len(fraud)\n",
    "\n",
    "for i, (clf_name,clf) in enumerate(classifier.items()):\n",
    "    \n",
    "    if clf_name == \"Local Outlier Factor\":\n",
    "        y_pred = clf.fit_predict(x)\n",
    "        scores_pred = clf.negative_outlier_factor_\n",
    "    else:\n",
    "        clf.fit(x)\n",
    "        scores_pred = clf.decision_function(x)\n",
    "        y_pred = clf.predict(x)\n",
    "    \n",
    "    #reshape the predict values to 0 for valid and 1 for fraud\n",
    "    y_pred[y_pred == 1] = 0\n",
    "    y_pred[y_pred == -1] = 1\n",
    "    \n",
    "    # total no of errors in our prediction\n",
    "    n_errors = (y_pred != y).sum()\n",
    "    \n",
    "        # run classification metrics\n",
    "    print('{} : {}'.format(clf_name , n_errors))\n",
    "    print(accuracy_score(y, y_pred))\n",
    "    print(classification_report(y,y_pred))"
   ]
  },
  {
   "cell_type": "code",
   "execution_count": null,
   "metadata": {},
   "outputs": [],
   "source": []
  }
 ],
 "metadata": {
  "kernelspec": {
   "display_name": "Python 3",
   "language": "python",
   "name": "python3"
  },
  "language_info": {
   "codemirror_mode": {
    "name": "ipython",
    "version": 3
   },
   "file_extension": ".py",
   "mimetype": "text/x-python",
   "name": "python",
   "nbconvert_exporter": "python",
   "pygments_lexer": "ipython3",
   "version": "3.7.3"
  }
 },
 "nbformat": 4,
 "nbformat_minor": 2
}
